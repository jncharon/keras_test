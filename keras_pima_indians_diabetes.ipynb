{
 "cells": [
  {
   "cell_type": "code",
   "execution_count": null,
   "metadata": {
    "collapsed": true
   },
   "outputs": [],
   "source": [
    "# A lancer avec Python 3"
   ]
  },
  {
   "cell_type": "code",
   "execution_count": 1,
   "metadata": {},
   "outputs": [
    {
     "name": "stderr",
     "output_type": "stream",
     "text": [
      "Using Theano backend.\n"
     ]
    },
    {
     "name": "stdout",
     "output_type": "stream",
     "text": [
      "keras :  2.0.8\n",
      "pandas :  0.20.3\n"
     ]
    }
   ],
   "source": [
    "# Initialisation\n",
    "import keras\n",
    "from keras.models import Sequential\n",
    "from keras.layers import Dense\n",
    "from keras.callbacks import ModelCheckpoint, EarlyStopping, CSVLogger\n",
    "import numpy\n",
    "import pandas as pd\n",
    "\n",
    "print('keras : ',keras.__version__)\n",
    "print('pandas : ',pd.__version__)"
   ]
  },
  {
   "cell_type": "code",
   "execution_count": 2,
   "metadata": {
    "collapsed": true
   },
   "outputs": [],
   "source": [
    "# fix random seed for reproducibility\n",
    "numpy.random.seed(7)"
   ]
  },
  {
   "cell_type": "code",
   "execution_count": 3,
   "metadata": {},
   "outputs": [
    {
     "name": "stdout",
     "output_type": "stream",
     "text": [
      "   prg  glu  dbp  tri  ins   bmi    ped  age  label\n",
      "0    1   85   66   29    0  26.6  0.351   31      0\n",
      "1    8  183   64    0    0  23.3  0.672   32      1\n",
      "2    1   89   66   23   94  28.1  0.167   21      0\n",
      "3    0  137   40   35  168  43.1  2.288   33      1\n",
      "4    5  116   74    0    0  25.6  0.201   30      0\n"
     ]
    }
   ],
   "source": [
    "# load pima indians dataset\n",
    "\"\"\"\n",
    "1. Number of times pregnant \n",
    "2. Plasma glucose concentration a 2 hours in an oral glucose tolerance test \n",
    "3. Diastolic blood pressure (mm Hg) \n",
    "4. Triceps skin fold thickness (mm) \n",
    "5. 2-Hour serum insulin (mu U/ml) \n",
    "6. Body mass index (weight in kg/(height in m)^2) \n",
    "7. Diabetes pedigree function \n",
    "8. Age (years) \n",
    "9. Class variable (0 or 1) \n",
    "\"\"\"\n",
    "\n",
    "#dataset = numpy.loadtxt(\"pima-indians-diabetes.csv\", delimiter=\",\")\n",
    "df = pd.read_csv(\"pima-indians-diabetes.csv\", delimiter=\",\", header=0, names=['prg','glu','dbp','tri','ins','bmi','ped','age','label'])\n",
    "print(df.head())\n",
    "\n",
    "# split into input (X) and output (Y) variables\n",
    "#X = dataset[:,0:8]\n",
    "#Y = dataset[:,8]\n",
    "X = df.iloc[:,0:8].values\n",
    "Y = df.iloc[:,8].values\n",
    "#print(df.iloc[:,0:8].head())\n",
    "#print(df.iloc[:,8].head())"
   ]
  },
  {
   "cell_type": "code",
   "execution_count": 4,
   "metadata": {
    "collapsed": true
   },
   "outputs": [],
   "source": [
    "# create model\n",
    "model = Sequential()\n",
    "model.add(Dense(12, input_dim=8, activation='relu'))\n",
    "model.add(Dense(8, activation='relu'))\n",
    "model.add(Dense(1, activation='sigmoid'))"
   ]
  },
  {
   "cell_type": "code",
   "execution_count": 5,
   "metadata": {
    "collapsed": true
   },
   "outputs": [],
   "source": [
    "# Compile model\n",
    "model.compile(loss='binary_crossentropy', optimizer='adam', metrics=['accuracy'])"
   ]
  },
  {
   "cell_type": "code",
   "execution_count": 6,
   "metadata": {},
   "outputs": [],
   "source": [
    "# training callbacks\n",
    "class LossHistory(keras.callbacks.Callback):\n",
    "    def on_train_begin(self, logs={}):\n",
    "        self.losses = []\n",
    "\n",
    "    def on_batch_end(self, batch, logs={}):\n",
    "        self.losses.append(logs.get('loss'))\n",
    "        \n",
    "history = LossHistory()\n",
    "csv_logger = CSVLogger('pima-indians-diabetes-log.csv', append=True, separator=';')\n",
    "checkpoint = ModelCheckpoint('pid-weights-best.hdf5', monitor='acc', verbose=1, save_best_only=True)\n",
    "callbacks_list = [csv_logger, checkpoint, history]"
   ]
  },
  {
   "cell_type": "code",
   "execution_count": 7,
   "metadata": {},
   "outputs": [
    {
     "name": "stdout",
     "output_type": "stream",
     "text": [
      "Epoch 00000: acc improved from -inf to 0.59061, saving model to pid-weights-best.hdf5\n",
      "Epoch 00001: acc improved from 0.59061 to 0.62060, saving model to pid-weights-best.hdf5\n",
      "Epoch 00002: acc improved from 0.62060 to 0.63103, saving model to pid-weights-best.hdf5\n",
      "Epoch 00003: acc did not improve\n",
      "Epoch 00004: acc improved from 0.63103 to 0.65189, saving model to pid-weights-best.hdf5\n",
      "Epoch 00005: acc improved from 0.65189 to 0.65580, saving model to pid-weights-best.hdf5\n",
      "Epoch 00006: acc did not improve\n",
      "Epoch 00007: acc improved from 0.65580 to 0.66362, saving model to pid-weights-best.hdf5\n",
      "Epoch 00008: acc improved from 0.66362 to 0.66623, saving model to pid-weights-best.hdf5\n",
      "Epoch 00009: acc did not improve\n",
      "Epoch 00010: acc did not improve\n",
      "Epoch 00011: acc did not improve\n",
      "Epoch 00012: acc did not improve\n",
      "Epoch 00013: acc improved from 0.66623 to 0.68188, saving model to pid-weights-best.hdf5\n",
      "Epoch 00014: acc did not improve\n",
      "Epoch 00015: acc did not improve\n",
      "Epoch 00016: acc did not improve\n",
      "Epoch 00017: acc improved from 0.68188 to 0.68318, saving model to pid-weights-best.hdf5\n",
      "Epoch 00018: acc improved from 0.68318 to 0.69231, saving model to pid-weights-best.hdf5\n",
      "Epoch 00019: acc did not improve\n",
      "Epoch 00020: acc did not improve\n",
      "Epoch 00021: acc did not improve\n",
      "Epoch 00022: acc improved from 0.69231 to 0.70665, saving model to pid-weights-best.hdf5\n",
      "Epoch 00023: acc did not improve\n",
      "Epoch 00024: acc did not improve\n",
      "Epoch 00025: acc improved from 0.70665 to 0.71317, saving model to pid-weights-best.hdf5\n",
      "Epoch 00026: acc improved from 0.71317 to 0.71317, saving model to pid-weights-best.hdf5\n",
      "Epoch 00027: acc improved from 0.71317 to 0.71447, saving model to pid-weights-best.hdf5\n",
      "Epoch 00028: acc did not improve\n",
      "Epoch 00029: acc did not improve\n",
      "Epoch 00030: acc did not improve\n",
      "Epoch 00031: acc did not improve\n",
      "Epoch 00032: acc did not improve\n",
      "Epoch 00033: acc did not improve\n",
      "Epoch 00034: acc improved from 0.71447 to 0.72621, saving model to pid-weights-best.hdf5\n",
      "Epoch 00035: acc did not improve\n",
      "Epoch 00036: acc improved from 0.72621 to 0.73012, saving model to pid-weights-best.hdf5\n",
      "Epoch 00037: acc did not improve\n",
      "Epoch 00038: acc did not improve\n",
      "Epoch 00039: acc improved from 0.73012 to 0.73403, saving model to pid-weights-best.hdf5\n",
      "Epoch 00040: acc did not improve\n",
      "Epoch 00041: acc did not improve\n",
      "Epoch 00042: acc did not improve\n",
      "Epoch 00043: acc did not improve\n",
      "Epoch 00044: acc did not improve\n",
      "Epoch 00045: acc did not improve\n",
      "Epoch 00046: acc did not improve\n",
      "Epoch 00047: acc did not improve\n",
      "Epoch 00048: acc did not improve\n",
      "Epoch 00049: acc did not improve\n",
      "Epoch 00050: acc did not improve\n",
      "Epoch 00051: acc did not improve\n",
      "Epoch 00052: acc improved from 0.73403 to 0.73794, saving model to pid-weights-best.hdf5\n",
      "Epoch 00053: acc improved from 0.73794 to 0.73924, saving model to pid-weights-best.hdf5\n",
      "Epoch 00054: acc did not improve\n",
      "Epoch 00055: acc did not improve\n",
      "Epoch 00056: acc did not improve\n",
      "Epoch 00057: acc did not improve\n",
      "Epoch 00058: acc improved from 0.73924 to 0.73924, saving model to pid-weights-best.hdf5\n",
      "Epoch 00059: acc did not improve\n",
      "Epoch 00060: acc did not improve\n",
      "Epoch 00061: acc improved from 0.73924 to 0.74837, saving model to pid-weights-best.hdf5\n",
      "Epoch 00062: acc did not improve\n",
      "Epoch 00063: acc did not improve\n",
      "Epoch 00064: acc did not improve\n",
      "Epoch 00065: acc did not improve\n",
      "Epoch 00066: acc did not improve\n",
      "Epoch 00067: acc did not improve\n",
      "Epoch 00068: acc did not improve\n",
      "Epoch 00069: acc improved from 0.74837 to 0.75228, saving model to pid-weights-best.hdf5\n",
      "Epoch 00070: acc did not improve\n",
      "Epoch 00071: acc did not improve\n",
      "Epoch 00072: acc did not improve\n",
      "Epoch 00073: acc did not improve\n",
      "Epoch 00074: acc did not improve\n",
      "Epoch 00075: acc did not improve\n",
      "Epoch 00076: acc did not improve\n",
      "Epoch 00077: acc did not improve\n",
      "Epoch 00078: acc did not improve\n",
      "Epoch 00079: acc did not improve\n",
      "Epoch 00080: acc improved from 0.75228 to 0.75359, saving model to pid-weights-best.hdf5\n",
      "Epoch 00081: acc did not improve\n",
      "Epoch 00082: acc did not improve\n",
      "Epoch 00083: acc improved from 0.75359 to 0.75489, saving model to pid-weights-best.hdf5\n",
      "Epoch 00084: acc did not improve\n",
      "Epoch 00085: acc did not improve\n",
      "Epoch 00086: acc did not improve\n",
      "Epoch 00087: acc did not improve\n",
      "Epoch 00088: acc improved from 0.75489 to 0.76793, saving model to pid-weights-best.hdf5\n",
      "Epoch 00089: acc did not improve\n",
      "Epoch 00090: acc did not improve\n",
      "Epoch 00091: acc did not improve\n",
      "Epoch 00092: acc improved from 0.76793 to 0.76923, saving model to pid-weights-best.hdf5\n",
      "Epoch 00093: acc did not improve\n",
      "Epoch 00094: acc did not improve\n",
      "Epoch 00095: acc did not improve\n",
      "Epoch 00096: acc did not improve\n",
      "Epoch 00097: acc did not improve\n",
      "Epoch 00098: acc did not improve\n",
      "Epoch 00099: acc did not improve\n",
      "Epoch 00100: acc did not improve\n",
      "Epoch 00101: acc did not improve\n",
      "Epoch 00102: acc did not improve\n",
      "Epoch 00103: acc did not improve\n",
      "Epoch 00104: acc did not improve\n",
      "Epoch 00105: acc did not improve\n",
      "Epoch 00106: acc did not improve\n",
      "Epoch 00107: acc did not improve\n",
      "Epoch 00108: acc did not improve\n",
      "Epoch 00109: acc did not improve\n",
      "Epoch 00110: acc did not improve\n",
      "Epoch 00111: acc did not improve\n",
      "Epoch 00112: acc did not improve\n",
      "Epoch 00113: acc did not improve\n",
      "Epoch 00114: acc improved from 0.76923 to 0.77184, saving model to pid-weights-best.hdf5\n",
      "Epoch 00115: acc did not improve\n",
      "Epoch 00116: acc did not improve\n",
      "Epoch 00117: acc did not improve\n",
      "Epoch 00118: acc improved from 0.77184 to 0.77445, saving model to pid-weights-best.hdf5\n",
      "Epoch 00119: acc did not improve\n",
      "Epoch 00120: acc did not improve\n",
      "Epoch 00121: acc did not improve\n",
      "Epoch 00122: acc did not improve\n",
      "Epoch 00123: acc improved from 0.77445 to 0.77445, saving model to pid-weights-best.hdf5\n",
      "Epoch 00124: acc did not improve\n",
      "Epoch 00125: acc did not improve\n",
      "Epoch 00126: acc did not improve\n",
      "Epoch 00127: acc did not improve\n",
      "Epoch 00128: acc did not improve\n",
      "Epoch 00129: acc did not improve\n",
      "Epoch 00130: acc did not improve\n",
      "Epoch 00131: acc did not improve\n",
      "Epoch 00132: acc improved from 0.77445 to 0.77705, saving model to pid-weights-best.hdf5\n",
      "Epoch 00133: acc did not improve\n",
      "Epoch 00134: acc did not improve\n",
      "Epoch 00135: acc did not improve\n",
      "Epoch 00136: acc did not improve\n",
      "Epoch 00137: acc did not improve\n",
      "Epoch 00138: acc did not improve\n",
      "Epoch 00139: acc did not improve\n",
      "Epoch 00140: acc did not improve\n",
      "Epoch 00141: acc did not improve\n",
      "Epoch 00142: acc did not improve\n",
      "Epoch 00143: acc did not improve\n",
      "Epoch 00144: acc did not improve\n",
      "Epoch 00145: acc improved from 0.77705 to 0.78096, saving model to pid-weights-best.hdf5\n",
      "Epoch 00146: acc did not improve\n",
      "Epoch 00147: acc did not improve\n",
      "Epoch 00148: acc did not improve\n",
      "Epoch 00149: acc did not improve\n"
     ]
    },
    {
     "data": {
      "text/plain": [
       "<keras.callbacks.History at 0x1c173fdcf8>"
      ]
     },
     "execution_count": 7,
     "metadata": {},
     "output_type": "execute_result"
    }
   ],
   "source": [
    "# Fit the modelprint(history.losses)\n",
    "model.fit(X, Y, epochs=150, batch_size=10, callbacks=callbacks_list, verbose=0)"
   ]
  },
  {
   "cell_type": "code",
   "execution_count": 8,
   "metadata": {},
   "outputs": [],
   "source": [
    "# displaying the loss history\n",
    "#print(history.losses)"
   ]
  },
  {
   "cell_type": "code",
   "execution_count": 9,
   "metadata": {},
   "outputs": [
    {
     "name": "stdout",
     "output_type": "stream",
     "text": [
      "\r",
      " 32/767 [>.............................] - ETA: 0s"
     ]
    }
   ],
   "source": [
    "# evaluate the model\n",
    "scores = model.evaluate(X, Y)# calculate predictions"
   ]
  },
  {
   "cell_type": "code",
   "execution_count": 10,
   "metadata": {
    "collapsed": true
   },
   "outputs": [],
   "source": [
    "# calculate predictions\n",
    "predictions = model.predict(X)"
   ]
  },
  {
   "cell_type": "code",
   "execution_count": 11,
   "metadata": {},
   "outputs": [
    {
     "name": "stdout",
     "output_type": "stream",
     "text": [
      "[0.0, 1.0, 0.0, 1.0, 0.0, 0.0, 1.0, 1.0, 0.0, 0.0, 1.0, 0.0, 1.0, 1.0, 0.0, 0.0, 0.0, 0.0, 0.0, 0.0, 0.0, 1.0, 0.0, 1.0, 0.0, 1.0, 0.0, 0.0, 0.0, 0.0, 0.0, 0.0, 0.0, 0.0, 0.0, 1.0, 0.0, 0.0, 0.0, 1.0, 0.0, 0.0, 1.0, 1.0, 1.0, 1.0, 0.0, 0.0, 0.0, 0.0, 0.0, 0.0, 1.0, 1.0, 0.0, 1.0, 0.0, 0.0, 0.0, 0.0, 1.0, 0.0, 0.0, 0.0, 0.0, 0.0, 0.0, 0.0, 0.0, 0.0, 0.0, 0.0, 0.0, 0.0, 0.0, 0.0, 0.0, 1.0, 0.0, 0.0, 0.0, 0.0, 0.0, 0.0, 0.0, 0.0, 0.0, 1.0, 0.0, 0.0, 0.0, 0.0, 0.0, 0.0, 1.0, 0.0, 0.0, 0.0, 0.0, 1.0, 0.0, 0.0, 0.0, 0.0, 0.0, 0.0, 0.0, 0.0, 0.0, 0.0, 1.0, 0.0, 0.0, 1.0, 0.0, 0.0, 0.0, 0.0, 0.0, 0.0, 0.0, 0.0, 0.0, 0.0, 0.0, 0.0, 0.0, 0.0, 0.0, 0.0, 1.0, 1.0, 0.0, 0.0, 0.0, 0.0, 0.0, 0.0, 0.0, 0.0, 0.0, 0.0, 0.0, 0.0, 0.0, 0.0, 0.0, 0.0, 0.0, 0.0, 0.0, 1.0, 0.0, 1.0, 1.0, 0.0, 0.0, 0.0, 1.0, 0.0, 0.0, 0.0, 0.0, 0.0, 0.0, 0.0, 0.0, 0.0, 0.0, 0.0, 0.0, 0.0, 0.0, 0.0, 1.0, 0.0, 0.0, 1.0, 0.0, 0.0, 0.0, 0.0, 0.0, 0.0, 1.0, 1.0, 0.0, 0.0, 0.0, 0.0, 0.0, 1.0, 1.0, 0.0, 0.0, 0.0, 0.0, 0.0, 0.0, 0.0, 0.0, 0.0, 0.0, 0.0, 0.0, 1.0, 0.0, 0.0, 1.0, 0.0, 0.0, 1.0, 0.0, 0.0, 1.0, 0.0, 0.0, 0.0, 0.0, 0.0, 0.0, 0.0, 0.0, 0.0, 0.0, 0.0, 1.0, 1.0, 0.0, 0.0, 1.0, 0.0, 0.0, 0.0, 1.0, 1.0, 0.0, 1.0, 0.0, 0.0, 0.0, 0.0, 1.0, 0.0, 1.0, 1.0, 0.0, 1.0, 0.0, 0.0, 0.0, 0.0, 0.0, 1.0, 0.0, 0.0, 0.0, 1.0, 1.0, 1.0, 1.0, 0.0, 0.0, 0.0, 0.0, 1.0, 0.0, 0.0, 1.0, 0.0, 0.0, 0.0, 0.0, 0.0, 0.0, 0.0, 0.0, 0.0, 0.0, 0.0, 1.0, 0.0, 1.0, 0.0, 0.0, 0.0, 0.0, 0.0, 0.0, 0.0, 0.0, 0.0, 0.0, 0.0, 1.0, 0.0, 0.0, 1.0, 0.0, 1.0, 0.0, 0.0, 0.0, 0.0, 0.0, 1.0, 0.0, 0.0, 0.0, 0.0, 0.0, 0.0, 0.0, 0.0, 0.0, 0.0, 1.0, 0.0, 1.0, 0.0, 0.0, 0.0, 0.0, 0.0, 0.0, 0.0, 1.0, 0.0, 0.0, 0.0, 0.0, 1.0, 0.0, 0.0, 0.0, 0.0, 0.0, 1.0, 1.0, 0.0, 0.0, 0.0, 0.0, 0.0, 0.0, 0.0, 1.0, 0.0, 1.0, 0.0, 0.0, 0.0, 0.0, 0.0, 1.0, 0.0, 0.0, 0.0, 1.0, 1.0, 0.0, 0.0, 0.0, 0.0, 0.0, 0.0, 0.0, 0.0, 0.0, 0.0, 0.0, 0.0, 0.0, 0.0, 1.0, 0.0, 0.0, 1.0, 0.0, 0.0, 0.0, 0.0, 0.0, 0.0, 0.0, 0.0, 0.0, 1.0, 0.0, 0.0, 1.0, 0.0, 0.0, 0.0, 0.0, 0.0, 0.0, 0.0, 1.0, 0.0, 0.0, 0.0, 0.0, 1.0, 0.0, 0.0, 0.0, 1.0, 1.0, 0.0, 0.0, 0.0, 0.0, 0.0, 0.0, 0.0, 0.0, 0.0, 0.0, 0.0, 0.0, 0.0, 0.0, 1.0, 1.0, 0.0, 1.0, 0.0, 0.0, 0.0, 0.0, 0.0, 0.0, 0.0, 1.0, 1.0, 0.0, 0.0, 0.0, 0.0, 0.0, 0.0, 0.0, 0.0, 1.0, 0.0, 0.0, 0.0, 0.0, 0.0, 0.0, 0.0, 0.0, 0.0, 1.0, 0.0, 0.0, 1.0, 0.0, 0.0, 0.0, 0.0, 0.0, 0.0, 0.0, 0.0, 0.0, 0.0, 1.0, 0.0, 0.0, 0.0, 0.0, 0.0, 0.0, 0.0, 0.0, 0.0, 0.0, 0.0, 0.0, 0.0, 0.0, 1.0, 0.0, 0.0, 1.0, 0.0, 0.0, 0.0, 0.0, 0.0, 0.0, 0.0, 0.0, 0.0, 0.0, 1.0, 1.0, 0.0, 0.0, 1.0, 0.0, 0.0, 0.0, 0.0, 0.0, 0.0, 0.0, 0.0, 0.0, 0.0, 0.0, 0.0, 0.0, 1.0, 0.0, 0.0, 0.0, 0.0, 0.0, 0.0, 1.0, 0.0, 0.0, 0.0, 0.0, 0.0, 0.0, 0.0, 0.0, 0.0, 0.0, 0.0, 1.0, 0.0, 0.0, 0.0, 0.0, 0.0, 0.0, 0.0, 0.0, 0.0, 1.0, 1.0, 0.0, 0.0, 0.0, 0.0, 0.0, 0.0, 0.0, 0.0, 0.0, 0.0, 0.0, 1.0, 0.0, 0.0, 1.0, 0.0, 0.0, 0.0, 0.0, 0.0, 0.0, 0.0, 0.0, 0.0, 0.0, 0.0, 0.0, 0.0, 0.0, 0.0, 0.0, 1.0, 1.0, 0.0, 0.0, 0.0, 0.0, 1.0, 0.0, 1.0, 0.0, 1.0, 0.0, 0.0, 0.0, 0.0, 0.0, 0.0, 0.0, 0.0, 0.0, 1.0, 0.0, 0.0, 0.0, 0.0, 0.0, 1.0, 0.0, 0.0, 0.0, 0.0, 0.0, 0.0, 1.0, 1.0, 0.0, 1.0, 0.0, 0.0, 0.0, 0.0, 1.0, 0.0, 0.0, 1.0, 0.0, 0.0, 0.0, 0.0, 0.0, 0.0, 0.0, 0.0, 0.0, 0.0, 0.0, 0.0, 0.0, 0.0, 0.0, 0.0, 0.0, 0.0, 0.0, 1.0, 0.0, 0.0, 0.0, 0.0, 1.0, 0.0, 0.0, 0.0, 0.0, 0.0, 0.0, 0.0, 0.0, 0.0, 0.0, 0.0, 0.0, 1.0, 1.0, 0.0, 1.0, 1.0, 0.0, 0.0, 0.0, 0.0, 0.0, 1.0, 0.0, 0.0, 0.0, 0.0, 1.0, 0.0, 0.0, 0.0, 0.0, 0.0, 0.0, 0.0, 0.0, 0.0, 0.0, 0.0, 0.0, 0.0, 0.0, 0.0, 0.0, 0.0, 0.0, 0.0, 0.0, 0.0, 0.0, 0.0, 0.0, 0.0, 0.0, 1.0, 0.0, 0.0, 0.0, 0.0, 0.0, 1.0, 0.0, 0.0, 0.0, 1.0, 0.0, 0.0, 1.0, 0.0, 0.0, 0.0, 0.0, 0.0, 0.0, 0.0, 0.0, 0.0, 0.0, 0.0, 0.0, 0.0, 0.0, 0.0, 0.0, 0.0, 0.0, 0.0, 0.0, 0.0, 0.0, 0.0, 0.0, 1.0, 0.0, 0.0, 0.0, 1.0, 0.0, 0.0, 0.0, 1.0, 0.0, 0.0, 0.0, 0.0, 0.0, 1.0, 0.0, 0.0, 0.0, 0.0, 1.0, 0.0, 1.0, 0.0, 0.0, 0.0, 0.0, 0.0, 0.0]\n"
     ]
    }
   ],
   "source": [
    "# round predictions\n",
    "rounded = [round(x[0]) for x in predictions]\n",
    "print(rounded)"
   ]
  }
 ],
 "metadata": {
  "kernelspec": {
   "display_name": "Python 3",
   "language": "python",
   "name": "python3"
  },
  "language_info": {
   "codemirror_mode": {
    "name": "ipython",
    "version": 3
   },
   "file_extension": ".py",
   "mimetype": "text/x-python",
   "name": "python",
   "nbconvert_exporter": "python",
   "pygments_lexer": "ipython3",
   "version": "3.6.2"
  }
 },
 "nbformat": 4,
 "nbformat_minor": 2
}
