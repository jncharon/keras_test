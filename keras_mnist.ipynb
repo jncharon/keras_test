{
 "cells": [
  {
   "cell_type": "markdown",
   "metadata": {},
   "source": [
    "# Essais de keras sur le dataset MNIST\n",
    "## Analyse des données"
   ]
  },
  {
   "cell_type": "code",
   "execution_count": 1,
   "metadata": {},
   "outputs": [
    {
     "name": "stderr",
     "output_type": "stream",
     "text": [
      "Using Theano backend.\n"
     ]
    },
    {
     "name": "stdout",
     "output_type": "stream",
     "text": [
      "numpy :  1.13.3\n",
      "theano :  0.9.0.dev-c697eeab84e5b8a74908da654b66ec9eca4f1291\n",
      "keras :  2.0.8\n"
     ]
    }
   ],
   "source": [
    "# Imports et versions\n",
    "import numpy as np\n",
    "import theano\n",
    "import keras\n",
    "from keras.layers import Dense, Dropout, Activation, Flatten\n",
    "from keras.layers import Convolution2D, MaxPooling2D\n",
    "from keras.callbacks import ModelCheckpoint, EarlyStopping, CSVLogger\n",
    "from keras.models import Sequential\n",
    "from keras.utils import np_utils\n",
    "from keras.datasets import mnist\n",
    "from matplotlib import pyplot as plt\n",
    "from keras import backend as K\n",
    "\n",
    "K.set_image_dim_ordering('th')\n",
    "\n",
    "print(\"numpy : \", np.__version__)\n",
    "print(\"theano : \", theano.__version__)\n",
    "print(\"keras : \", keras.__version__)"
   ]
  },
  {
   "cell_type": "code",
   "execution_count": 2,
   "metadata": {},
   "outputs": [
    {
     "name": "stdout",
     "output_type": "stream",
     "text": [
      "(60000, 28, 28)\n"
     ]
    }
   ],
   "source": [
    "np.random.seed(123)  # pour reproductibilité\n",
    "\n",
    "# Chargement des données MNIST qui sont déjà mélangées\n",
    "(X_train, y_train), (X_test, y_test) = mnist.load_data()\n",
    "print(X_train.shape)"
   ]
  },
  {
   "cell_type": "code",
   "execution_count": 26,
   "metadata": {},
   "outputs": [
    {
     "data": {
      "image/png": "[encoded data removed]",
      "text/plain": [
       "<matplotlib.figure.Figure at 0x1c0f53f550>"
      ]
     },
     "metadata": {},
     "output_type": "display_data"
    }
   ],
   "source": [
    "# Affichage de la première image\n",
    "%matplotlib inline\n",
    "plt.figure(figsize=(8, 8))\n",
    "#plt.imshow(X_train[0])\n",
    "\n",
    "for i in range(9):\n",
    "    plt.subplot(3, 3, i+1)\n",
    "    plt.imshow(X_train[i].squeeze(), cmap='gray', interpolation='none')\n",
    "    plt.title(\"Class {}\".format(y_train[i]))"
   ]
  },
  {
   "cell_type": "code",
   "execution_count": 4,
   "metadata": {},
   "outputs": [
    {
     "name": "stdout",
     "output_type": "stream",
     "text": [
      "(60000, 1, 28, 28)\n"
     ]
    }
   ],
   "source": [
    "# Transformation de la forme des données d'entrée, il faut déclarer que les données ne sont pas (n, width, height)\n",
    "# mais (n, depth, width, height) où depth est le nombre de canaux RGB. Le dataset est en n&b donc depth est 1\n",
    "X_train = X_train.reshape(X_train.shape[0], 1, 28, 28)\n",
    "X_test = X_test.reshape(X_test.shape[0], 1, 28, 28)\n",
    "print(X_train.shape)"
   ]
  },
  {
   "cell_type": "code",
   "execution_count": 6,
   "metadata": {
    "collapsed": true
   },
   "outputs": [],
   "source": [
    "# Conversion en données numériques\n",
    "X_train = X_train.astype('float32')\n",
    "X_test = X_test.astype('float32')\n",
    "\n",
    "# normalisation des valeurs\n",
    "X_train /= 255\n",
    "X_test /= 255"
   ]
  },
  {
   "cell_type": "code",
   "execution_count": 7,
   "metadata": {},
   "outputs": [
    {
     "name": "stdout",
     "output_type": "stream",
     "text": [
      "(60000,)\n"
     ]
    }
   ],
   "source": [
    "# pré-traiement des classes, regardons comment elles sont représentées\n",
    "print(y_train.shape)"
   ]
  },
  {
   "cell_type": "code",
   "execution_count": 8,
   "metadata": {},
   "outputs": [
    {
     "name": "stdout",
     "output_type": "stream",
     "text": [
      "[5 0 4 1 9 2 1 3 1 4]\n"
     ]
    }
   ],
   "source": [
    "# Problème : on devrait avoir 10 classes, une par chiffre à identifier. Au lieu de ça, on a une liste de \n",
    "# 60000 valeurs. Regardons ce que l'on y trouve\n",
    "print(y_train[:10])"
   ]
  },
  {
   "cell_type": "code",
   "execution_count": 9,
   "metadata": {},
   "outputs": [
    {
     "name": "stdout",
     "output_type": "stream",
     "text": [
      "(60000, 10)\n"
     ]
    }
   ],
   "source": [
    "# Les données ne sont pas réparties dans 10 classes mais représentées dans le tableau de 60000 entrées.\n",
    "# Conversion du tableau à une dimension en matrice à 10 dimensions\n",
    "Y_train = np_utils.to_categorical(y_train, 10)\n",
    "Y_test = np_utils.to_categorical(y_test, 10)\n",
    "print(Y_train.shape)"
   ]
  },
  {
   "cell_type": "markdown",
   "metadata": {},
   "source": [
    "## Conception et entrainement du modèle"
   ]
  },
  {
   "cell_type": "code",
   "execution_count": 10,
   "metadata": {
    "collapsed": true
   },
   "outputs": [],
   "source": [
    "# Mise en place du modèle\n",
    "# on va enchainer en séquence une série de couches\n",
    "model = Sequential()\n",
    "\n",
    "# l'input_shape correspond (1,28,28) correspond au format (depth, width, height) de nos données\n",
    "# 32 représente le nombre de filtres de convolution\n",
    "# 3 représente le nombre de lignes dans chaque convolution\n",
    "# 3 représente le nombre de colonnes dans chaque convolution\n",
    "model.add(Convolution2D(32, (3, 3), activation='relu', input_shape=(1,28,28)))\n",
    "model.add(Convolution2D(32, (3, 3), activation='relu'))\n",
    "# MaxPooling2D is a way to reduce the number of parameters in our model by sliding a \n",
    "# 2x2 pooling filter across the previous layer and taking the max of the 4 values in the 2x2 filter.\n",
    "model.add(MaxPooling2D(pool_size=(2,2)))\n",
    "# Dropout évite l'overfitting\n",
    "model.add(Dropout(0.25))\n",
    "\n",
    "# Fully connecter layer, weights from the Convolution layers must be flattened \n",
    "# (made 1-dimensional) before passing them to the fully connected Dense layer\n",
    "model.add(Flatten())\n",
    "# 128 représente la taille de la sortie\n",
    "model.add(Dense(128, activation='relu'))\n",
    "# Output layer\n",
    "model.add(Dropout(0.5))\n",
    "# l'output layer à une sortie de taille 10, qui correspond à nos 10 classes\n",
    "model.add(Dense(10, activation='softmax'))"
   ]
  },
  {
   "cell_type": "code",
   "execution_count": 11,
   "metadata": {
    "collapsed": true
   },
   "outputs": [],
   "source": [
    "# Compilation du modèle\n",
    "model.compile(loss='categorical_crossentropy', optimizer='adam', metrics=['accuracy'])"
   ]
  },
  {
   "cell_type": "code",
   "execution_count": 12,
   "metadata": {
    "collapsed": true
   },
   "outputs": [],
   "source": [
    "# Callbacks\n",
    "# les callbacks permettent de sauvegarder les meilleurs weights \n",
    "# et de logger l'historique des métriques accuracy et loss dans un fichier\n",
    "csv_logger = CSVLogger('mnist-log.csv', append=True, separator=';')\n",
    "checkpoint = ModelCheckpoint('mnist-weights-best.hdf5', monitor='acc', verbose=1, save_best_only=True)\n",
    "callbacks_list = [csv_logger, checkpoint]"
   ]
  },
  {
   "cell_type": "code",
   "execution_count": 13,
   "metadata": {},
   "outputs": [
    {
     "name": "stdout",
     "output_type": "stream",
     "text": [
      "Train on 57000 samples, validate on 3000 samples\n",
      "Epoch 1/10\n",
      "56992/57000 [============================>.] - ETA: 0s - loss: 1.0013 - acc: 0.6603Epoch 00000: acc improved from -inf to 0.66030, saving model to mnist-weights-best.hdf5\n",
      "57000/57000 [==============================] - 124s - loss: 1.0013 - acc: 0.6603 - val_loss: 0.2751 - val_acc: 0.9307\n",
      "Epoch 2/10\n",
      "56992/57000 [============================>.] - ETA: 0s - loss: 0.5903 - acc: 0.8106Epoch 00001: acc improved from 0.66030 to 0.81063, saving model to mnist-weights-best.hdf5\n",
      "57000/57000 [==============================] - 135s - loss: 0.5903 - acc: 0.8106 - val_loss: 0.2161 - val_acc: 0.9423\n",
      "Epoch 3/10\n",
      "56992/57000 [============================>.] - ETA: 0s - loss: 0.5296 - acc: 0.8326Epoch 00002: acc improved from 0.81063 to 0.83260, saving model to mnist-weights-best.hdf5\n",
      "57000/57000 [==============================] - 140s - loss: 0.5296 - acc: 0.8326 - val_loss: 0.1934 - val_acc: 0.9450\n",
      "Epoch 4/10\n",
      "56992/57000 [============================>.] - ETA: 0s - loss: 0.4794 - acc: 0.8485Epoch 00003: acc improved from 0.83260 to 0.84844, saving model to mnist-weights-best.hdf5\n",
      "57000/57000 [==============================] - 139s - loss: 0.4795 - acc: 0.8484 - val_loss: 0.1708 - val_acc: 0.9547\n",
      "Epoch 5/10\n",
      "56992/57000 [============================>.] - ETA: 0s - loss: 0.4459 - acc: 0.8581Epoch 00004: acc improved from 0.84844 to 0.85812, saving model to mnist-weights-best.hdf5\n",
      "57000/57000 [==============================] - 140s - loss: 0.4459 - acc: 0.8581 - val_loss: 0.1509 - val_acc: 0.9593\n",
      "Epoch 6/10\n",
      "56992/57000 [============================>.] - ETA: 0s - loss: 0.4188 - acc: 0.8696Epoch 00005: acc improved from 0.85812 to 0.86963, saving model to mnist-weights-best.hdf5\n",
      "57000/57000 [==============================] - 151s - loss: 0.4187 - acc: 0.8696 - val_loss: 0.1366 - val_acc: 0.9650\n",
      "Epoch 7/10\n",
      "56992/57000 [============================>.] - ETA: 0s - loss: 0.3896 - acc: 0.8787Epoch 00006: acc improved from 0.86963 to 0.87863, saving model to mnist-weights-best.hdf5\n",
      "57000/57000 [==============================] - 142s - loss: 0.3896 - acc: 0.8786 - val_loss: 0.1309 - val_acc: 0.9667\n",
      "Epoch 8/10\n",
      "56992/57000 [============================>.] - ETA: 0s - loss: 0.3705 - acc: 0.8848Epoch 00007: acc improved from 0.87863 to 0.88477, saving model to mnist-weights-best.hdf5\n",
      "57000/57000 [==============================] - 141s - loss: 0.3704 - acc: 0.8848 - val_loss: 0.1232 - val_acc: 0.9690\n",
      "Epoch 9/10\n",
      "56992/57000 [============================>.] - ETA: 0s - loss: 0.3556 - acc: 0.8915Epoch 00008: acc improved from 0.88477 to 0.89149, saving model to mnist-weights-best.hdf5\n",
      "57000/57000 [==============================] - 142s - loss: 0.3556 - acc: 0.8915 - val_loss: 0.1185 - val_acc: 0.9693\n",
      "Epoch 10/10\n",
      "56992/57000 [============================>.] - ETA: 0s - loss: 0.3374 - acc: 0.8945Epoch 00009: acc improved from 0.89149 to 0.89456, saving model to mnist-weights-best.hdf5\n",
      "57000/57000 [==============================] - 143s - loss: 0.3373 - acc: 0.8946 - val_loss: 0.1163 - val_acc: 0.9683\n"
     ]
    }
   ],
   "source": [
    "# Entrainement du modèle\n",
    "# validation_split permet de séparer les données en train/validation\n",
    "history = model.fit(X_train, Y_train, batch_size=32, epochs=10, \n",
    "                    verbose=1, callbacks=callbacks_list, \n",
    "                    validation_split=0.05)"
   ]
  },
  {
   "cell_type": "markdown",
   "metadata": {},
   "source": [
    "## Evaluation du modèle"
   ]
  },
  {
   "cell_type": "code",
   "execution_count": 14,
   "metadata": {},
   "outputs": [
    {
     "name": "stdout",
     "output_type": "stream",
     "text": [
      "CNN Error: 4.75%\n"
     ]
    }
   ],
   "source": [
    "# Evaluation du modèle\n",
    "scores = model.evaluate(X_test, Y_test, verbose=0)\n",
    "#print(scores)\n",
    "print(\"CNN Error: %.2f%%\" % (100-scores[1]*100))"
   ]
  },
  {
   "cell_type": "code",
   "execution_count": 15,
   "metadata": {},
   "outputs": [
    {
     "data": {
      "text/plain": [
       "dict_keys(['val_loss', 'val_acc', 'loss', 'acc'])"
      ]
     },
     "execution_count": 15,
     "metadata": {},
     "output_type": "execute_result"
    }
   ],
   "source": [
    "# Historique du traitement\n",
    "history_dict = history.history\n",
    "history_dict.keys()"
   ]
  },
  {
   "cell_type": "code",
   "execution_count": 22,
   "metadata": {},
   "outputs": [
    {
     "data": {
      "text/plain": [
       "<matplotlib.text.Text at 0x1c20182320>"
      ]
     },
     "execution_count": 22,
     "metadata": {},
     "output_type": "execute_result"
    },
    {
     "data": {
      "image/png": "[encoded data removed]",
      "text/plain": [
       "<matplotlib.figure.Figure at 0x1c10787a90>"
      ]
     },
     "metadata": {},
     "output_type": "display_data"
    }
   ],
   "source": [
    "loss_values = history_dict['loss']\n",
    "val_loss_values = history_dict['val_loss']\n",
    "epochs = range(1, len(loss_values) + 1)\n",
    "\n",
    "# Graphique de l'historique : affichage des pertes (loss)\n",
    "plt.figure(figsize=(7, 7))\n",
    "plt.plot(epochs, loss_values, 'bo')\n",
    "plt.plot(epochs, val_loss_values, 'b+')\n",
    "plt.xlabel('Epochs')\n",
    "plt.ylabel('Loss')"
   ]
  },
  {
   "cell_type": "code",
   "execution_count": 23,
   "metadata": {},
   "outputs": [
    {
     "data": {
      "text/plain": [
       "<matplotlib.text.Text at 0x1c10682ef0>"
      ]
     },
     "execution_count": 23,
     "metadata": {},
     "output_type": "execute_result"
    },
    {
     "data": {
      "image/png": "[encoded data removed]",
      "text/plain": [
       "<matplotlib.figure.Figure at 0x1c10627b38>"
      ]
     },
     "metadata": {},
     "output_type": "display_data"
    }
   ],
   "source": [
    "# Graphique de l'historique : affichage de la précision (accuracy)\n",
    "acc_values = history_dict['acc']\n",
    "val_acc_values = history_dict['val_acc']\n",
    "plt.figure(figsize=(7, 7))\n",
    "plt.plot(epochs, acc_values, 'bo')\n",
    "plt.plot(epochs, val_acc_values, 'b+')\n",
    "plt.xlabel('Epochs')\n",
    "plt.ylabel('Accuracy')"
   ]
  },
  {
   "cell_type": "code",
   "execution_count": 20,
   "metadata": {
    "collapsed": true
   },
   "outputs": [],
   "source": [
    "plt.show()"
   ]
  },
  {
   "cell_type": "markdown",
   "metadata": {
    "collapsed": true
   },
   "source": [
    "## Prédictions"
   ]
  },
  {
   "cell_type": "code",
   "execution_count": null,
   "metadata": {
    "collapsed": true
   },
   "outputs": [],
   "source": []
  }
 ],
 "metadata": {
  "kernelspec": {
   "display_name": "Python 3",
   "language": "python",
   "name": "python3"
  },
  "language_info": {
   "codemirror_mode": {
    "name": "ipython",
    "version": 3
   },
   "file_extension": ".py",
   "mimetype": "text/x-python",
   "name": "python",
   "nbconvert_exporter": "python",
   "pygments_lexer": "ipython3",
   "version": "3.6.2"
  }
 },
 "nbformat": 4,
 "nbformat_minor": 2
}
